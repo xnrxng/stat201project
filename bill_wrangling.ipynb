{
 "cells": [
  {
   "cell_type": "markdown",
   "id": "ad00405a-8132-44e3-8f56-ef5544a36dca",
   "metadata": {},
   "source": [
    "# Wrangling"
   ]
  },
  {
   "cell_type": "code",
   "execution_count": 3,
   "id": "f5f27d66-8ce1-48ea-b0e0-c60127640b81",
   "metadata": {},
   "outputs": [],
   "source": [
    "library(dplyr)"
   ]
  },
  {
   "cell_type": "code",
   "execution_count": 7,
   "id": "7c0f1141-6b6d-4ab9-a3a0-396268ddc0b7",
   "metadata": {},
   "outputs": [
    {
     "data": {
      "text/html": [
       "<table class=\"dataframe\">\n",
       "<caption>A data.frame: 6 × 10</caption>\n",
       "<thead>\n",
       "\t<tr><th></th><th scope=col>TYPE</th><th scope=col>YEAR</th><th scope=col>MONTH</th><th scope=col>DAY</th><th scope=col>HOUR</th><th scope=col>MINUTE</th><th scope=col>HUNDRED_BLOCK</th><th scope=col>NEIGHBOURHOOD</th><th scope=col>X</th><th scope=col>Y</th></tr>\n",
       "\t<tr><th></th><th scope=col>&lt;chr&gt;</th><th scope=col>&lt;int&gt;</th><th scope=col>&lt;int&gt;</th><th scope=col>&lt;int&gt;</th><th scope=col>&lt;int&gt;</th><th scope=col>&lt;int&gt;</th><th scope=col>&lt;chr&gt;</th><th scope=col>&lt;chr&gt;</th><th scope=col>&lt;dbl&gt;</th><th scope=col>&lt;dbl&gt;</th></tr>\n",
       "</thead>\n",
       "<tbody>\n",
       "\t<tr><th scope=row>1</th><td>Other Theft</td><td>2019</td><td> 3</td><td>14</td><td>10</td><td>34</td><td>47XX OAK ST  </td><td>South Cambie</td><td>490706.9</td><td>5454474</td></tr>\n",
       "\t<tr><th scope=row>2</th><td>Other Theft</td><td>2005</td><td> 8</td><td> 1</td><td> 0</td><td> 0</td><td>47XX OAK ST  </td><td>South Cambie</td><td>490706.9</td><td>5454474</td></tr>\n",
       "\t<tr><th scope=row>3</th><td>Other Theft</td><td>2012</td><td>12</td><td> 6</td><td> 9</td><td>30</td><td>47XX OAK ST  </td><td>South Cambie</td><td>490706.9</td><td>5454474</td></tr>\n",
       "\t<tr><th scope=row>4</th><td>Other Theft</td><td>2004</td><td> 1</td><td>25</td><td>17</td><td> 0</td><td>47XX OAK ST  </td><td>South Cambie</td><td>490710.6</td><td>5454535</td></tr>\n",
       "\t<tr><th scope=row>5</th><td>Other Theft</td><td>2020</td><td> 9</td><td>22</td><td>11</td><td>36</td><td>47XX OSLER ST</td><td>Shaughnessy </td><td>490528.5</td><td>5454450</td></tr>\n",
       "\t<tr><th scope=row>6</th><td>Other Theft</td><td>2003</td><td> 8</td><td>18</td><td> 7</td><td>30</td><td>47XX OSLER ST</td><td>Shaughnessy </td><td>490529.8</td><td>5454502</td></tr>\n",
       "</tbody>\n",
       "</table>\n"
      ],
      "text/latex": [
       "A data.frame: 6 × 10\n",
       "\\begin{tabular}{r|llllllllll}\n",
       "  & TYPE & YEAR & MONTH & DAY & HOUR & MINUTE & HUNDRED\\_BLOCK & NEIGHBOURHOOD & X & Y\\\\\n",
       "  & <chr> & <int> & <int> & <int> & <int> & <int> & <chr> & <chr> & <dbl> & <dbl>\\\\\n",
       "\\hline\n",
       "\t1 & Other Theft & 2019 &  3 & 14 & 10 & 34 & 47XX OAK ST   & South Cambie & 490706.9 & 5454474\\\\\n",
       "\t2 & Other Theft & 2005 &  8 &  1 &  0 &  0 & 47XX OAK ST   & South Cambie & 490706.9 & 5454474\\\\\n",
       "\t3 & Other Theft & 2012 & 12 &  6 &  9 & 30 & 47XX OAK ST   & South Cambie & 490706.9 & 5454474\\\\\n",
       "\t4 & Other Theft & 2004 &  1 & 25 & 17 &  0 & 47XX OAK ST   & South Cambie & 490710.6 & 5454535\\\\\n",
       "\t5 & Other Theft & 2020 &  9 & 22 & 11 & 36 & 47XX OSLER ST & Shaughnessy  & 490528.5 & 5454450\\\\\n",
       "\t6 & Other Theft & 2003 &  8 & 18 &  7 & 30 & 47XX OSLER ST & Shaughnessy  & 490529.8 & 5454502\\\\\n",
       "\\end{tabular}\n"
      ],
      "text/markdown": [
       "\n",
       "A data.frame: 6 × 10\n",
       "\n",
       "| <!--/--> | TYPE &lt;chr&gt; | YEAR &lt;int&gt; | MONTH &lt;int&gt; | DAY &lt;int&gt; | HOUR &lt;int&gt; | MINUTE &lt;int&gt; | HUNDRED_BLOCK &lt;chr&gt; | NEIGHBOURHOOD &lt;chr&gt; | X &lt;dbl&gt; | Y &lt;dbl&gt; |\n",
       "|---|---|---|---|---|---|---|---|---|---|---|\n",
       "| 1 | Other Theft | 2019 |  3 | 14 | 10 | 34 | 47XX OAK ST   | South Cambie | 490706.9 | 5454474 |\n",
       "| 2 | Other Theft | 2005 |  8 |  1 |  0 |  0 | 47XX OAK ST   | South Cambie | 490706.9 | 5454474 |\n",
       "| 3 | Other Theft | 2012 | 12 |  6 |  9 | 30 | 47XX OAK ST   | South Cambie | 490706.9 | 5454474 |\n",
       "| 4 | Other Theft | 2004 |  1 | 25 | 17 |  0 | 47XX OAK ST   | South Cambie | 490710.6 | 5454535 |\n",
       "| 5 | Other Theft | 2020 |  9 | 22 | 11 | 36 | 47XX OSLER ST | Shaughnessy  | 490528.5 | 5454450 |\n",
       "| 6 | Other Theft | 2003 |  8 | 18 |  7 | 30 | 47XX OSLER ST | Shaughnessy  | 490529.8 | 5454502 |\n",
       "\n"
      ],
      "text/plain": [
       "  TYPE        YEAR MONTH DAY HOUR MINUTE HUNDRED_BLOCK NEIGHBOURHOOD X       \n",
       "1 Other Theft 2019  3    14  10   34     47XX OAK ST   South Cambie  490706.9\n",
       "2 Other Theft 2005  8     1   0    0     47XX OAK ST   South Cambie  490706.9\n",
       "3 Other Theft 2012 12     6   9   30     47XX OAK ST   South Cambie  490706.9\n",
       "4 Other Theft 2004  1    25  17    0     47XX OAK ST   South Cambie  490710.6\n",
       "5 Other Theft 2020  9    22  11   36     47XX OSLER ST Shaughnessy   490528.5\n",
       "6 Other Theft 2003  8    18   7   30     47XX OSLER ST Shaughnessy   490529.8\n",
       "  Y      \n",
       "1 5454474\n",
       "2 5454474\n",
       "3 5454474\n",
       "4 5454535\n",
       "5 5454450\n",
       "6 5454502"
      ]
     },
     "metadata": {},
     "output_type": "display_data"
    },
    {
     "name": "stdout",
     "output_type": "stream",
     "text": [
      "Number of Crimes:  853296"
     ]
    }
   ],
   "source": [
    "vancouver_crime_data <- read.csv(\"crimedata_csv_AllNeighbourhoods_AllYears.csv\")\n",
    "head(vancouver_crime_data)\n",
    "cat(\"Number of Crimes: \", nrow(vancouver_crime_data))"
   ]
  },
  {
   "cell_type": "code",
   "execution_count": 11,
   "id": "f757511d-847b-41ed-837d-b6d07524e66b",
   "metadata": {},
   "outputs": [
    {
     "data": {
      "text/html": [
       "<table class=\"dataframe\">\n",
       "<caption>A data.frame: 6 × 5</caption>\n",
       "<thead>\n",
       "\t<tr><th></th><th scope=col>TYPE</th><th scope=col>YEAR</th><th scope=col>HOUR</th><th scope=col>DAY_NIGHT</th><th scope=col>NEIGHBOURHOOD</th></tr>\n",
       "\t<tr><th></th><th scope=col>&lt;chr&gt;</th><th scope=col>&lt;int&gt;</th><th scope=col>&lt;int&gt;</th><th scope=col>&lt;chr&gt;</th><th scope=col>&lt;chr&gt;</th></tr>\n",
       "</thead>\n",
       "<tbody>\n",
       "\t<tr><th scope=row>1</th><td>Other Theft</td><td>2019</td><td>10</td><td>DAY  </td><td>South Cambie</td></tr>\n",
       "\t<tr><th scope=row>2</th><td>Other Theft</td><td>2005</td><td> 0</td><td>NIGHT</td><td>South Cambie</td></tr>\n",
       "\t<tr><th scope=row>3</th><td>Other Theft</td><td>2012</td><td> 9</td><td>DAY  </td><td>South Cambie</td></tr>\n",
       "\t<tr><th scope=row>4</th><td>Other Theft</td><td>2004</td><td>17</td><td>DAY  </td><td>South Cambie</td></tr>\n",
       "\t<tr><th scope=row>5</th><td>Other Theft</td><td>2020</td><td>11</td><td>DAY  </td><td>Shaughnessy </td></tr>\n",
       "\t<tr><th scope=row>6</th><td>Other Theft</td><td>2003</td><td> 7</td><td>DAY  </td><td>Shaughnessy </td></tr>\n",
       "</tbody>\n",
       "</table>\n"
      ],
      "text/latex": [
       "A data.frame: 6 × 5\n",
       "\\begin{tabular}{r|lllll}\n",
       "  & TYPE & YEAR & HOUR & DAY\\_NIGHT & NEIGHBOURHOOD\\\\\n",
       "  & <chr> & <int> & <int> & <chr> & <chr>\\\\\n",
       "\\hline\n",
       "\t1 & Other Theft & 2019 & 10 & DAY   & South Cambie\\\\\n",
       "\t2 & Other Theft & 2005 &  0 & NIGHT & South Cambie\\\\\n",
       "\t3 & Other Theft & 2012 &  9 & DAY   & South Cambie\\\\\n",
       "\t4 & Other Theft & 2004 & 17 & DAY   & South Cambie\\\\\n",
       "\t5 & Other Theft & 2020 & 11 & DAY   & Shaughnessy \\\\\n",
       "\t6 & Other Theft & 2003 &  7 & DAY   & Shaughnessy \\\\\n",
       "\\end{tabular}\n"
      ],
      "text/markdown": [
       "\n",
       "A data.frame: 6 × 5\n",
       "\n",
       "| <!--/--> | TYPE &lt;chr&gt; | YEAR &lt;int&gt; | HOUR &lt;int&gt; | DAY_NIGHT &lt;chr&gt; | NEIGHBOURHOOD &lt;chr&gt; |\n",
       "|---|---|---|---|---|---|\n",
       "| 1 | Other Theft | 2019 | 10 | DAY   | South Cambie |\n",
       "| 2 | Other Theft | 2005 |  0 | NIGHT | South Cambie |\n",
       "| 3 | Other Theft | 2012 |  9 | DAY   | South Cambie |\n",
       "| 4 | Other Theft | 2004 | 17 | DAY   | South Cambie |\n",
       "| 5 | Other Theft | 2020 | 11 | DAY   | Shaughnessy  |\n",
       "| 6 | Other Theft | 2003 |  7 | DAY   | Shaughnessy  |\n",
       "\n"
      ],
      "text/plain": [
       "  TYPE        YEAR HOUR DAY_NIGHT NEIGHBOURHOOD\n",
       "1 Other Theft 2019 10   DAY       South Cambie \n",
       "2 Other Theft 2005  0   NIGHT     South Cambie \n",
       "3 Other Theft 2012  9   DAY       South Cambie \n",
       "4 Other Theft 2004 17   DAY       South Cambie \n",
       "5 Other Theft 2020 11   DAY       Shaughnessy  \n",
       "6 Other Theft 2003  7   DAY       Shaughnessy  "
      ]
     },
     "metadata": {},
     "output_type": "display_data"
    },
    {
     "data": {
      "text/html": [
       "<table class=\"dataframe\">\n",
       "<caption>A tibble: 4 × 2</caption>\n",
       "<thead>\n",
       "\t<tr><th scope=col>TYPE</th><th scope=col>COUNT</th></tr>\n",
       "\t<tr><th scope=col>&lt;chr&gt;</th><th scope=col>&lt;int&gt;</th></tr>\n",
       "</thead>\n",
       "<tbody>\n",
       "\t<tr><td>Other Theft       </td><td>210540</td></tr>\n",
       "\t<tr><td>Theft from Vehicle</td><td>237891</td></tr>\n",
       "\t<tr><td>Theft of Bicycle  </td><td> 36403</td></tr>\n",
       "\t<tr><td>Theft of Vehicle  </td><td> 44404</td></tr>\n",
       "</tbody>\n",
       "</table>\n"
      ],
      "text/latex": [
       "A tibble: 4 × 2\n",
       "\\begin{tabular}{ll}\n",
       " TYPE & COUNT\\\\\n",
       " <chr> & <int>\\\\\n",
       "\\hline\n",
       "\t Other Theft        & 210540\\\\\n",
       "\t Theft from Vehicle & 237891\\\\\n",
       "\t Theft of Bicycle   &  36403\\\\\n",
       "\t Theft of Vehicle   &  44404\\\\\n",
       "\\end{tabular}\n"
      ],
      "text/markdown": [
       "\n",
       "A tibble: 4 × 2\n",
       "\n",
       "| TYPE &lt;chr&gt; | COUNT &lt;int&gt; |\n",
       "|---|---|\n",
       "| Other Theft        | 210540 |\n",
       "| Theft from Vehicle | 237891 |\n",
       "| Theft of Bicycle   |  36403 |\n",
       "| Theft of Vehicle   |  44404 |\n",
       "\n"
      ],
      "text/plain": [
       "  TYPE               COUNT \n",
       "1 Other Theft        210540\n",
       "2 Theft from Vehicle 237891\n",
       "3 Theft of Bicycle    36403\n",
       "4 Theft of Vehicle    44404"
      ]
     },
     "metadata": {},
     "output_type": "display_data"
    }
   ],
   "source": [
    "vancouver_thefts <- vancouver_crime_data %>%\n",
    "    filter(TYPE == \"Other Theft\" | TYPE == \"Theft from Vehicle\" | TYPE == \"Theft of Vehicle\" | TYPE == \"Theft of Bicycle\") %>%\n",
    "    mutate(DAY_NIGHT = ifelse(HOUR >= 6 & HOUR < 18, \"DAY\", \"NIGHT\")) %>%\n",
    "    select(TYPE, YEAR, HOUR, DAY_NIGHT, NEIGHBOURHOOD)\n",
    "head(vancouver_thefts)\n",
    "\n",
    "theft_counts <- vancouver_thefts %>%\n",
    "    group_by(TYPE) %>%\n",
    "    summarise(COUNT = n())\n",
    "theft_counts"
   ]
  },
  {
   "cell_type": "code",
   "execution_count": null,
   "id": "b6ecc5bb-4499-4b50-bbf1-309a9281e106",
   "metadata": {},
   "outputs": [],
   "source": []
  }
 ],
 "metadata": {
  "kernelspec": {
   "display_name": "R",
   "language": "R",
   "name": "ir"
  },
  "language_info": {
   "codemirror_mode": "r",
   "file_extension": ".r",
   "mimetype": "text/x-r-source",
   "name": "R",
   "pygments_lexer": "r",
   "version": "4.1.3"
  }
 },
 "nbformat": 4,
 "nbformat_minor": 5
}
