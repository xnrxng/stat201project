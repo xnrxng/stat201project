{
 "cells": [
  {
   "cell_type": "markdown",
   "id": "a574fce6-aee9-4a8b-a661-08e2c32c1c60",
   "metadata": {},
   "source": [
    "# Methods: Plan"
   ]
  },
  {
   "cell_type": "markdown",
   "id": "f942a613-0464-431c-a4cb-7a0d3076f232",
   "metadata": {},
   "source": [
    "Our report relies on the Vancouver crime dataset, which is provided by the crime mapping tool, GeoDASH Crime Map, and the data is populated by the Vancouver Police Department. The use of this data to analyze theft crimes during the day and night is supported by the reliability of the data source and standardized procedures for crime data collection and categorization that is reported directly by the Vancouver Police Department. This ensures accuracy and consistency in the classification of crimes and time of occurrence. Moreover, the dataset's transparency allows for scrutiny and analysis, as it is publicly available for access to anyone.\n",
    "\n",
    "With this in mind, the report's trustworthiness is reinforced by the use of a reliable data source, standardized procedures for data collection and categorization, and transparency. These factors ensure the validity and reliability of the analysis conducted and provide readers with confidence in the report's findings."
   ]
  },
  {
   "cell_type": "markdown",
   "id": "468def0c-4e0d-4745-8c4c-bafd1240d3ee",
   "metadata": {},
   "source": [
    "Although we have presented several plots comparing the distribution of crime occurrences during day and night, based on Vancouver crime data from 2003 to 2022, these data have limitations. Due to privacy and investigative reasons, not all crime data is included in the dataset, which means that we do not have a complete picture of crime in Vancouver during the specified time period. However, despite these limitations, we will use this data to infer the proportion of theft crimes occurring during day and night in similar Canadian cities.\n",
    "\n",
    "To perform our analysis, we will use the notation $p_0$ to represent the proportion of theft crimes that occur at night and $p_1$ to represent the proportion that occurs during the day. We will treat our data as a sample and conduct a hypothesis test on the difference in these proportions at a significance level of 10%, with $H_0: p_0 = p_1$ (null hypothesis) and $H_a: p_0 \\neq p_1$ (alternative hypothesis). In other words, our null hypothesis is that the proportion of theft crimes occurring during the day is the same as the proportion occurring at night, while our alternative hypothesis is that there is a difference in these proportions. And we will perform and compare the results of the hypothesis testing using both bootstrapping and asymptotic methods.\n"
   ]
  },
  {
   "cell_type": "markdown",
   "id": "48616c43-9e48-4cbb-9d7a-1eeb059175f7",
   "metadata": {},
   "source": [
    "We are expecting to find a notable difference in the proportions of theft crimes that occurred during the day and during the night. By demonstrating this difference, we aim to either support or refute the commonly held belief that more crime occurs at night because it is more dangerous, and in our case, to support or refute that more theft crimes happen during the night. Lastly, after we have made a conclusion in our report, we would like to suggest further analysis into the other categories of crime and the time of occurrence of those categories to investigate whether all crime share similar nature in the time of occurrence or suggest otherwise."
   ]
  },
  {
   "cell_type": "code",
   "execution_count": null,
   "id": "c9270d65-b10e-4e4f-a034-00de0ea482d8",
   "metadata": {},
   "outputs": [],
   "source": []
  }
 ],
 "metadata": {
  "kernelspec": {
   "display_name": "R",
   "language": "R",
   "name": "ir"
  },
  "language_info": {
   "codemirror_mode": "r",
   "file_extension": ".r",
   "mimetype": "text/x-r-source",
   "name": "R",
   "pygments_lexer": "r",
   "version": "4.1.3"
  }
 },
 "nbformat": 4,
 "nbformat_minor": 5
}
