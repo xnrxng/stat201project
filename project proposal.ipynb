{
 "cells": [
  {
   "cell_type": "markdown",
   "id": "b12d3705-c550-4766-a821-ebc97b6a0a39",
   "metadata": {},
   "source": [
    "# Shedding Light on the Dark: Analyzing the Proportion of Daytime vs Nighttime Thefts in Vancouver"
   ]
  },
  {
   "cell_type": "markdown",
   "id": "548e1c18-4d7a-40bb-8929-336753f58f9d",
   "metadata": {},
   "source": [
    "Group 2: Rui Xiang Yu, Lily Zhang, Bill Makwae & Ruoxi Chen"
   ]
  },
  {
   "cell_type": "markdown",
   "id": "a0c69e52-ddf4-4c5a-b882-42e63554f1f0",
   "metadata": {
    "jp-MarkdownHeadingCollapsed": true,
    "tags": []
   },
   "source": [
    "### 1. Introduction\n",
    "Vancouver's population was reported to be of 662,248 in 2021, making it one of the biggest cities in Canada (Statistics Canada, 2023). As such, it is expected for crimes, such as theft, to happen. \n",
    "\n",
    "With this project, we aim to answer the following inferential question: does the proportion of theft-related crimes commited in the day differ from those commited in the night? The conclusions from this project could be extrapolated to the entirety of Vancouver and other Canadian cities of similar population density.\n",
    "\n",
    "It was found that predicted robbery rates in the United Kingdom increased the darker the areas were (Tompson & Bowers, 2013). Furthermore, commercial robberies in the Netherlands happened more during winter due to more dark hours during the season (Van Koppen & Jansen, 1999). Based on the current literature, our hypothesis is that the proportion of theft is more likely to happen during the night. Due to the dark and less witnesses, it is easier to stay concealed and carry out a successful theft.\n",
    "\n",
    "The dataset used for this project is the Vancouver Police Department's Crime Data, which contains the data about most crimes commited in Vancouver, and the variables \"hour\" and \"number of crimes\" will be used (Vancouver Police Department, 2023). Since the main focus is the count of crimes comitted on the day VS night, the proportion of crimes in the day VS night will be studied. Furthermore, the standard error will be studied too in order to report a confidence interval."
   ]
  },
  {
   "cell_type": "markdown",
   "id": "68e6d83d-e99f-4c69-93e4-cd14a0aa0a11",
   "metadata": {},
   "source": [
    "### 2. Preliminary Results\n",
    "- Demonstrate that the dataset can be read from the web into R.\n",
    "- Clean and wrangle your data into a tidy format.\n",
    "- Plot the relevant raw data, tailoring your plot in a way that addresses your question.\n",
    "- Compute estimates of the parameter you identified across your groups. Present this in a table. If relevant, include these estimates in your plot."
   ]
  },
  {
   "cell_type": "markdown",
   "id": "0947e0d1-0667-4ad1-841a-6b41499ddfd0",
   "metadata": {},
   "source": [
    "### 3. Methods: Plan\n",
    "The previous sections will carry over to your final report (you’ll be allowed to improve them based on feedback you get). Begin this Methods section with a brief description of “the good things” about this report – specifically, in what ways is this report trustworthy?\n",
    "\n",
    "Continue by explaining why the plot(s) and estimates that you produced are not enough to give to a stakeholder, and what you should provide in addition to address this gap. Make sure your plans include at least one hypothesis test and one confidence interval. If possible, compare both the bootstrapping and asymptotics methods.\n",
    "\n",
    "Finish this section by reflecting on how your final report might play out:\n",
    "\n",
    "- What do you expect to find?\n",
    "- What impact could such findings have?\n",
    "- What future questions could this lead to?"
   ]
  },
  {
   "cell_type": "markdown",
   "id": "955a203d-8dea-4cf8-a0cf-43278adf6f6d",
   "metadata": {},
   "source": [
    "### 4. References\n",
    "Statistics Canada (2023). *Census Profile: 2021 Census of Population*. Statistics Canada Catalogue. https://www12.statcan.gc.ca/census-recensement/2021/dp-pd/prof/index.cfm?Lang=E.\n",
    "\n",
    "Tompson, L., & Bowers, K. (2013). A Stab in the Dark?: A Research Note on Temporal Patterns of Street Robbery. *The Journal of research in crime and delinquency, 50*(4), 616–631. https://doi.org/10.1177/0022427812469114.\n",
    "\n",
    "Vancouver Police Department (2023). *Crime Data* [Data set]. The Vancouver Police Department. https://geodash.vpd.ca/opendata/.\n",
    "\n",
    "Van Koppen, P. J., & Jansen, R. W. J. (1999). The Time to Rob: Variations in Time of Number of Commercial Robberies. *Journal of Research in Crime and Delinquency, 36*(1), 7–29. https://doi.org/10.1177/0022427899036001003."
   ]
  },
  {
   "cell_type": "code",
   "execution_count": null,
   "id": "19e3a26a-4f8d-4321-8bab-3fa898d5a101",
   "metadata": {},
   "outputs": [],
   "source": []
  }
 ],
 "metadata": {
  "kernelspec": {
   "display_name": "R",
   "language": "R",
   "name": "ir"
  },
  "language_info": {
   "codemirror_mode": "r",
   "file_extension": ".r",
   "mimetype": "text/x-r-source",
   "name": "R",
   "pygments_lexer": "r",
   "version": "4.1.3"
  }
 },
 "nbformat": 4,
 "nbformat_minor": 5
}
