{
 "cells": [
  {
   "cell_type": "markdown",
   "id": "c3d2b1b1-c562-4964-b03b-8142290778b3",
   "metadata": {},
   "source": [
    "The population in Vancouver was reported to be of 662,248 in 2021, making it one of the biggest cities in Canada (Statistics Canada, 2023). As such, it is expected for crimes, such as theft, to happen. It was found that predicted robbery rates in the United Kingdom increased the darker the areas were (Tompson & Bowers, 2013). Furthermore, most crimes commited by people aged 18 and older in the United States are commited between 6-11 pm (Office of Juvenile Justice and Deliquency Prevention, 2022).\n",
    "\n",
    "With this project, we aim to answer the following inferential question: what is the proportion of theft-related crimes in the day and at night in Vancouver? With this question, we strive to determine whether one is more likely to be stolen during the day or during the night. Moreover, the conclusions from this project could be further extended to other Canadian cities of similar population density as Vancouver.\n",
    "\n",
    "Based on the current literature, our hypothesis is that the proportion of theft is more likely to happen during the night. The dataset used for this project is the Vancouver Police Department's Crime Data, where the variables \"hour\" and \"number of crimes (only those theft-related)\" will be used.\n"
   ]
  },
  {
   "cell_type": "markdown",
   "id": "cd985694-0fdb-4f63-b567-45fb89f38157",
   "metadata": {},
   "source": [
    "Office of Juvenile Justice and Deliquency Prevention (2022). *Statistical Briefing Book*. Office of Justice Programs. https://www.ojjdp.gov/ojstatbb/\n",
    "\n",
    "Statistics Canada (2023). *Census Profile: 2021 Census of Population*. Statistics Canada Catalogue. https://www12.statcan.gc.ca/census-recensement/2021/dp-pd/prof/index.cfm?Lang=E\n",
    "\n",
    "Tompson, L., & Bowers, K. (2013). A Stab in the Dark?: A Research Note on Temporal Patterns of Street Robbery. *The Journal of research in crime and delinquency, 50*(4), 616–631. https://doi.org/10.1177/0022427812469114."
   ]
  },
  {
   "cell_type": "code",
   "execution_count": null,
   "id": "94bcfd2d-2dfa-478d-b06c-fdc47d1135b6",
   "metadata": {},
   "outputs": [],
   "source": []
  }
 ],
 "metadata": {
  "kernelspec": {
   "display_name": "R",
   "language": "R",
   "name": "ir"
  },
  "language_info": {
   "codemirror_mode": "r",
   "file_extension": ".r",
   "mimetype": "text/x-r-source",
   "name": "R",
   "pygments_lexer": "r",
   "version": "4.1.3"
  }
 },
 "nbformat": 4,
 "nbformat_minor": 5
}
